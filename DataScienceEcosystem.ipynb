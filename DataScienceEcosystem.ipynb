{
 "cells": [
  {
   "cell_type": "markdown",
   "id": "d2856268",
   "metadata": {},
   "source": [
    "## Data Science Tools and Ecosystem"
   ]
  },
  {
   "cell_type": "markdown",
   "id": "fd104d1a",
   "metadata": {},
   "source": [
    "#### In this notebook, Data Science Tools and Ecosystem are summarized."
   ]
  },
  {
   "cell_type": "markdown",
   "id": "f68e954f",
   "metadata": {},
   "source": [
    "##### Some of the popular languages that Data Scientists use are: \n",
    "      Python\n",
    "      Scala\n",
    "      R\n",
    "      "
   ]
  },
  {
   "cell_type": "markdown",
   "id": "5e35fd44",
   "metadata": {},
   "source": [
    "#### Some of the commonly used libraries used by Data Scientists include:\n",
    "      Numpy\n",
    "      Pandas\n",
    "      Matplotlib\n",
    "      sk-learn"
   ]
  },
  {
   "cell_type": "markdown",
   "id": "5e55c66e",
   "metadata": {},
   "source": [
    "|Data Science Tools| \n",
    "|:-\n",
    "| Jupyter Notebook \n",
    "| RStudio           \n",
    "|Apache Zeppelin    "
   ]
  },
  {
   "cell_type": "markdown",
   "id": "30923729",
   "metadata": {},
   "source": [
    "### Objectives:\n",
    "    "
   ]
  },
  {
   "cell_type": "markdown",
   "id": "75a31e26",
   "metadata": {},
   "source": [
    "#### Below are a few examples of evaluating arithmetic expressions in Python "
   ]
  },
  {
   "cell_type": "code",
   "execution_count": 1,
   "id": "64e1a10c",
   "metadata": {
    "scrolled": true
   },
   "outputs": [
    {
     "data": {
      "text/plain": [
       "17"
      ]
     },
     "execution_count": 1,
     "metadata": {},
     "output_type": "execute_result"
    }
   ],
   "source": [
    "#This a simple arithmetic expression to mutiply then add integers\n",
    "(3*4)+5"
   ]
  },
  {
   "cell_type": "code",
   "execution_count": 3,
   "id": "bb42fb0c",
   "metadata": {},
   "outputs": [
    {
     "data": {
      "text/plain": [
       "3.3333333333333335"
      ]
     },
     "execution_count": 3,
     "metadata": {},
     "output_type": "execute_result"
    }
   ],
   "source": [
    "# This will convert 200 minutes to hours by diving by 60\n",
    "200/60"
   ]
  },
  {
   "cell_type": "markdown",
   "id": "69a820ac",
   "metadata": {},
   "source": [
    "## Author:\n",
    "    Sohaib Chachar"
   ]
  },
  {
   "cell_type": "code",
   "execution_count": null,
   "id": "106edd26",
   "metadata": {},
   "outputs": [],
   "source": []
  }
 ],
 "metadata": {
  "kernelspec": {
   "display_name": "Python 3 (ipykernel)",
   "language": "python",
   "name": "python3"
  },
  "language_info": {
   "codemirror_mode": {
    "name": "ipython",
    "version": 3
   },
   "file_extension": ".py",
   "mimetype": "text/x-python",
   "name": "python",
   "nbconvert_exporter": "python",
   "pygments_lexer": "ipython3",
   "version": "3.9.16"
  }
 },
 "nbformat": 4,
 "nbformat_minor": 5
}
